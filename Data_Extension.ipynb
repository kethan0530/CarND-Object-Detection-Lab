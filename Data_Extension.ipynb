{
 "cells": [
  {
   "cell_type": "markdown",
   "metadata": {},
   "source": [
    "### Importing necessary dependencies"
   ]
  },
  {
   "cell_type": "code",
   "execution_count": 15,
   "metadata": {},
   "outputs": [],
   "source": [
    "from glob import glob\n",
    "import os\n",
    "import cv2\n",
    "\n",
    "import matplotlib.pyplot as plt\n",
    "import matplotlib.image as mpimg\n",
    "%matplotlib inline"
   ]
  },
  {
   "cell_type": "markdown",
   "metadata": {},
   "source": [
    "### Data directory"
   ]
  },
  {
   "cell_type": "code",
   "execution_count": 13,
   "metadata": {},
   "outputs": [],
   "source": [
    "DATA_DIR = 'data'"
   ]
  },
  {
   "cell_type": "markdown",
   "metadata": {},
   "source": [
    "## Extending Data Set"
   ]
  },
  {
   "cell_type": "code",
   "execution_count": 12,
   "metadata": {},
   "outputs": [
    {
     "name": "stdout",
     "output_type": "stream",
     "text": [
      "Processing: data/rosbag/green, number of images 318\n",
      "Processing: data/rosbag/yellow, number of images 217\n",
      "Processing: data/rosbag/red, number of images 379\n",
      "Processing: data/rosbag/none, number of images 273\n",
      "Processing: data/rosbag1/green, number of images 120\n",
      "Processing: data/rosbag1/yellow, number of images 59\n",
      "Processing: data/rosbag1/red, number of images 105\n",
      "Processing: data/rosbag1/none, number of images 473\n",
      "Processing: data/rosbag2/green, number of images 121\n",
      "Processing: data/rosbag2/yellow, number of images 87\n",
      "Processing: data/rosbag2/red, number of images 70\n",
      "Processing: data/rosbag2/none, number of images 510\n"
     ]
    }
   ],
   "source": [
    "for sample_dir in ['rosbag', 'rosbag1', 'rosbag2']: \n",
    "    for color, color_dir in enumerate(['green', 'yellow', 'red', 'none']):\n",
    "        data_dir = os.path.join(DATA_DIR, sample_dir, color_dir)\n",
    "        img_paths = glob(os.path.join(data_dir, '*.jpg'))\n",
    "        print('Processing: {}, number of images {}'.format(data_dir, len(img_paths)))\n",
    "        \n",
    "        for img_path in img_paths:\n",
    "            file_name = img_path.split('/')[-1]\n",
    "            img = cv2.imread(img_path)\n",
    "            cv2.imwrite(os.path.join(DATA_DIR, 'ext_' + sample_dir, color_dir, file_name), cv2.flip(img, 1))\n",
    "\n"
   ]
  },
  {
   "cell_type": "markdown",
   "metadata": {},
   "source": [
    "## Verifying extension"
   ]
  },
  {
   "cell_type": "code",
   "execution_count": 14,
   "metadata": {},
   "outputs": [
    {
     "name": "stdout",
     "output_type": "stream",
     "text": [
      "Dir: data/rosbag/green, number of images 318\n",
      "Dir: data/rosbag/yellow, number of images 217\n",
      "Dir: data/rosbag/red, number of images 379\n",
      "Dir: data/rosbag/none, number of images 273\n",
      "Dir: data/ext_rosbag/green, number of images 318\n",
      "Dir: data/ext_rosbag/yellow, number of images 217\n",
      "Dir: data/ext_rosbag/red, number of images 379\n",
      "Dir: data/ext_rosbag/none, number of images 273\n",
      "Dir: data/rosbag1/green, number of images 120\n",
      "Dir: data/rosbag1/yellow, number of images 59\n",
      "Dir: data/rosbag1/red, number of images 105\n",
      "Dir: data/rosbag1/none, number of images 473\n",
      "Dir: data/ext_rosbag1/green, number of images 120\n",
      "Dir: data/ext_rosbag1/yellow, number of images 59\n",
      "Dir: data/ext_rosbag1/red, number of images 105\n",
      "Dir: data/ext_rosbag1/none, number of images 473\n",
      "Dir: data/rosbag2/green, number of images 121\n",
      "Dir: data/rosbag2/yellow, number of images 87\n",
      "Dir: data/rosbag2/red, number of images 70\n",
      "Dir: data/rosbag2/none, number of images 510\n",
      "Dir: data/ext_rosbag2/green, number of images 121\n",
      "Dir: data/ext_rosbag2/yellow, number of images 87\n",
      "Dir: data/ext_rosbag2/red, number of images 70\n",
      "Dir: data/ext_rosbag2/none, number of images 510\n"
     ]
    }
   ],
   "source": [
    "for sample_dir in ['rosbag', 'ext_rosbag', 'rosbag1', 'ext_rosbag1', 'rosbag2', 'ext_rosbag2']: \n",
    "    for color, color_dir in enumerate(['green', 'yellow', 'red', 'none']):\n",
    "        data_dir = os.path.join(DATA_DIR, sample_dir, color_dir)\n",
    "        img_paths = glob(os.path.join(data_dir, '*.jpg'))\n",
    "        print('Dir: {}, number of images {}'.format(data_dir, len(img_paths)))\n"
   ]
  },
  {
   "cell_type": "code",
   "execution_count": null,
   "metadata": {},
   "outputs": [],
   "source": []
  }
 ],
 "metadata": {
  "kernelspec": {
   "display_name": "Python 2",
   "language": "python",
   "name": "python2"
  },
  "language_info": {
   "codemirror_mode": {
    "name": "ipython",
    "version": 2
   },
   "file_extension": ".py",
   "mimetype": "text/x-python",
   "name": "python",
   "nbconvert_exporter": "python",
   "pygments_lexer": "ipython2",
   "version": "2.7.12"
  }
 },
 "nbformat": 4,
 "nbformat_minor": 2
}
